{
 "cells": [
  {
   "cell_type": "markdown",
   "metadata": {},
   "source": [
    "# はじめに\n",
    "ここでは APIを叩きまくる\n"
   ]
  },
  {
   "cell_type": "markdown",
   "metadata": {},
   "source": [
    "とりあえず、TwitterでTweetしてみる。\n",
    "\n",
    "アプリケーション登録は以下のURLで行った。\n",
    "\n",
    "```\n",
    "https://apps.twitter.com/app/new\n",
    "```\n",
    "\n",
    "実際にTweetしたテストコードは以下。なお、API Key類を *./twitter/config.json* として保存してある。\n",
    "\n",
    "```\n",
    "# ./twitter/config.json の例\n",
    "{\n",
    "    \"access_token\": \"<your keys>\",\n",
    "    \"access_token_secret\": \"<your keys>\",\n",
    "    \"consumer_key\": \"<your keys>\",\n",
    "    \"consumer_secret\": \"<your keys>\"\n",
    "}\n",
    "\n",
    "```"
   ]
  },
  {
   "cell_type": "code",
   "execution_count": 18,
   "metadata": {
    "collapsed": false
   },
   "outputs": [],
   "source": [
    "import json\n",
    "from twitter import Twitter, OAuth\n",
    "\n",
    "with open('./twitter/config.json', 'r') as f:\n",
    "    json_data = json.load(f)\n",
    "    \n",
    "t = Twitter(auth=OAuth(json_data['access_token'], json_data['access_token_secret'],\n",
    "            json_data['consumer_key'], json_data['consumer_secret']))\n",
    "\n",
    "status_update = t.statuses.update(status='もう少しで活動限界')"
   ]
  }
 ],
 "metadata": {
  "kernelspec": {
   "display_name": "Python 3",
   "language": "python",
   "name": "python3"
  },
  "language_info": {
   "codemirror_mode": {
    "name": "ipython",
    "version": 3
   },
   "file_extension": ".py",
   "mimetype": "text/x-python",
   "name": "python",
   "nbconvert_exporter": "python",
   "pygments_lexer": "ipython3",
   "version": "3.5.1"
  }
 },
 "nbformat": 4,
 "nbformat_minor": 0
}

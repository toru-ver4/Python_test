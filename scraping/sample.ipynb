{
 "cells": [
  {
   "cell_type": "markdown",
   "metadata": {},
   "source": [
    "## css のクラスを使った解析\n",
    "\n",
    "以下のようなHTMLから `<span class=\"green\">` を抽出するには、findAll() を使う。\n",
    "\n",
    "```\n",
    "<span class=\"red\">And the fete at the English ambassador's? Today is Wednesday. I\n",
    "must put in an appearance there,</span>\" said <span class=\"green\">the prince</span>. \"<span class=\"red\">My daughter is\n",
    "coming for me to take me there.</span>\n",
    "```"
   ]
  },
  {
   "cell_type": "code",
   "execution_count": 1,
   "metadata": {
    "collapsed": false,
    "scrolled": true
   },
   "outputs": [
    {
     "name": "stdout",
     "output_type": "stream",
     "text": [
      "Anna\n",
      "Pavlovna Scherer\n",
      "Empress Marya\n",
      "Fedorovna\n",
      "Prince Vasili Kuragin\n",
      "Anna Pavlovna\n",
      "St. Petersburg\n",
      "the prince\n",
      "Anna Pavlovna\n",
      "Anna Pavlovna\n",
      "the prince\n",
      "the prince\n",
      "the prince\n",
      "Prince Vasili\n",
      "Anna Pavlovna\n",
      "Anna Pavlovna\n",
      "the prince\n",
      "Wintzingerode\n",
      "King of Prussia\n",
      "le Vicomte de Mortemart\n",
      "Montmorencys\n",
      "Rohans\n",
      "Abbe Morio\n",
      "the Emperor\n",
      "the prince\n",
      "Prince Vasili\n",
      "Dowager Empress Marya Fedorovna\n",
      "the baron\n",
      "Anna Pavlovna\n",
      "the Empress\n",
      "the Empress\n",
      "Anna Pavlovna's\n",
      "Her Majesty\n",
      "Baron\n",
      "Funke\n",
      "The prince\n",
      "Anna\n",
      "Pavlovna\n",
      "the Empress\n",
      "The prince\n",
      "Anatole\n",
      "the prince\n",
      "The prince\n",
      "Anna\n",
      "Pavlovna\n",
      "Anna Pavlovna\n"
     ]
    }
   ],
   "source": [
    "import sample\n",
    "import imp\n",
    "imp.reload(sample)\n",
    "\n",
    "bsObj = sample.getSiteHTML(\"http://www.pythonscraping.com/pages/warandpeace.html\")\n",
    "nameList = bsObj.findAll(\"span\", {\"class\":\"green\"})\n",
    "for name in nameList:\n",
    "    print(name.get_text())"
   ]
  },
  {
   "cell_type": "markdown",
   "metadata": {},
   "source": [
    "## ガルパンの Wikipedia から各話タイトルを取得してみよう"
   ]
  },
  {
   "cell_type": "code",
   "execution_count": 13,
   "metadata": {
    "collapsed": false
   },
   "outputs": [
    {
     "name": "stdout",
     "output_type": "stream",
     "text": [
      "話数 サブタイトル\n",
      "第1話 戦車道、始めます！\n",
      "第2話 戦車、乗ります！\n",
      "第3話 試合、やります！\n",
      "第4話 隊長、がんばります！\n",
      "第5話 強豪・シャーマン軍団です！\n",
      "第5.5話 紹介します！\n",
      "第6話 一回戦、白熱してます！\n",
      "第7話 次はアンツィオです！\n",
      "第8話 プラウダ戦です！\n",
      "第9話 絶体絶命です！\n",
      "第10話 クラスメイトです！\n",
      "第10.5話 紹介します 2！\n",
      "第11話 激戦です！\n",
      "第12話 あとには退けない戦いです！\n",
      "OVA これが本当のアンツィオ戦です！\n"
     ]
    }
   ],
   "source": [
    "import pandas\n",
    "url = \"https://ja.wikipedia.org/wiki/%E3%82%AC%E3%83%BC%E3%83%AB%E3%82%BA%26%E3%83%91%E3%83%B3%E3%83%84%E3%82%A1%E3%83%BC\"\n",
    "pandas_obj = pandas.io.html.read_html(url)\n",
    "# print(pandas_obj)\n",
    "index = None\n",
    "for idx, dataframe in enumerate(pandas_obj):\n",
    "    if dataframe[0][0] == \"話数\" and dataframe[1][0] == \"サブタイトル\":\n",
    "        index = idx\n",
    "        break\n",
    "if index:   \n",
    "    title_list = pandas_obj[index][0].values + \" \" + pandas_obj[index][1].values\n",
    "    for title_name in title_list:\n",
    "        print(title_name)"
   ]
  },
  {
   "cell_type": "markdown",
   "metadata": {},
   "source": [
    "## ちょっと別サイトで試してみますか…\n",
    "\n",
    "「僕だけがいない街」みたいに1期しかないアニメはOK。\n",
    "「けいおん！」みたいに2期まであるやつはNG。"
   ]
  },
  {
   "cell_type": "code",
   "execution_count": 15,
   "metadata": {
    "collapsed": false
   },
   "outputs": [
    {
     "ename": "TypeError",
     "evalue": "Can't convert 'float' object to str implicitly",
     "output_type": "error",
     "traceback": [
      "\u001b[1;31m---------------------------------------------------------------------------\u001b[0m",
      "\u001b[1;31mTypeError\u001b[0m                                 Traceback (most recent call last)",
      "\u001b[1;32m<ipython-input-15-f28d6d697aa5>\u001b[0m in \u001b[0;36m<module>\u001b[1;34m()\u001b[0m\n\u001b[0;32m     10\u001b[0m         \u001b[1;32mbreak\u001b[0m\u001b[1;33m\u001b[0m\u001b[0m\n\u001b[0;32m     11\u001b[0m \u001b[1;32mif\u001b[0m \u001b[0mindex\u001b[0m\u001b[1;33m:\u001b[0m\u001b[1;33m\u001b[0m\u001b[0m\n\u001b[1;32m---> 12\u001b[1;33m     \u001b[0mtitle_list\u001b[0m \u001b[1;33m=\u001b[0m \u001b[0mpandas_obj\u001b[0m\u001b[1;33m[\u001b[0m\u001b[0mindex\u001b[0m\u001b[1;33m]\u001b[0m\u001b[1;33m[\u001b[0m\u001b[1;36m0\u001b[0m\u001b[1;33m]\u001b[0m\u001b[1;33m.\u001b[0m\u001b[0mvalues\u001b[0m \u001b[1;33m+\u001b[0m \u001b[1;34m\" \"\u001b[0m \u001b[1;33m+\u001b[0m \u001b[0mpandas_obj\u001b[0m\u001b[1;33m[\u001b[0m\u001b[0mindex\u001b[0m\u001b[1;33m]\u001b[0m\u001b[1;33m[\u001b[0m\u001b[1;36m1\u001b[0m\u001b[1;33m]\u001b[0m\u001b[1;33m.\u001b[0m\u001b[0mvalues\u001b[0m\u001b[1;33m\u001b[0m\u001b[0m\n\u001b[0m\u001b[0;32m     13\u001b[0m     \u001b[1;32mfor\u001b[0m \u001b[0mtitle_name\u001b[0m \u001b[1;32min\u001b[0m \u001b[0mtitle_list\u001b[0m\u001b[1;33m:\u001b[0m\u001b[1;33m\u001b[0m\u001b[0m\n\u001b[0;32m     14\u001b[0m         \u001b[0mprint\u001b[0m\u001b[1;33m(\u001b[0m\u001b[0mtitle_name\u001b[0m\u001b[1;33m)\u001b[0m\u001b[1;33m\u001b[0m\u001b[0m\n",
      "\u001b[1;31mTypeError\u001b[0m: Can't convert 'float' object to str implicitly"
     ]
    }
   ],
   "source": [
    "import pandas\n",
    "# url = \"https://ja.wikipedia.org/wiki/%E5%83%95%E3%81%A0%E3%81%91%E3%81%8C%E3%81%84%E3%81%AA%E3%81%84%E8%A1%97\"\n",
    "url = \"https://ja.wikipedia.org/wiki/%E3%81%91%E3%81%84%E3%81%8A%E3%82%93!#.E5.90.84.E8.A9.B1.E3.83.AA.E3.82.B9.E3.83.88\"\n",
    "pandas_obj = pandas.io.html.read_html(url)\n",
    "# print(pandas_obj)\n",
    "index = None\n",
    "for idx, dataframe in enumerate(pandas_obj):\n",
    "    if dataframe[0][0] == \"話数\" and dataframe[1][0] == \"サブタイトル\":\n",
    "        index = idx\n",
    "        break\n",
    "if index:   \n",
    "    title_list = pandas_obj[index][0].values + \" \" + pandas_obj[index][1].values\n",
    "    for title_name in title_list:\n",
    "        print(title_name)"
   ]
  },
  {
   "cell_type": "markdown",
   "metadata": {},
   "source": [
    "## 関数化して、もう少しまじめに書こう"
   ]
  },
  {
   "cell_type": "code",
   "execution_count": 23,
   "metadata": {
    "collapsed": false
   },
   "outputs": [
    {
     "name": "stdout",
     "output_type": "stream",
     "text": [
      "話数 サブタイトル\n",
      "第1話 戦車道、始めます！\n",
      "第2話 戦車、乗ります！\n",
      "第3話 試合、やります！\n",
      "第4話 隊長、がんばります！\n",
      "第5話 強豪・シャーマン軍団です！\n",
      "第5.5話 紹介します！\n",
      "第6話 一回戦、白熱してます！\n",
      "第7話 次はアンツィオです！\n",
      "第8話 プラウダ戦です！\n",
      "第9話 絶体絶命です！\n",
      "第10話 クラスメイトです！\n",
      "第10.5話 紹介します 2！\n",
      "第11話 激戦です！\n",
      "第12話 あとには退けない戦いです！\n",
      "OVA これが本当のアンツィオ戦です！\n",
      "話数 サブタイトル\n",
      "第一話 走馬灯\n",
      "第二話 掌\n",
      "第三話 痣\n",
      "第四話 達成\n",
      "第五話 逃走\n",
      "第六話 死神\n",
      "第七話 暴走\n",
      "第八話 螺旋\n",
      "第九話 終幕\n",
      "第十話 歓喜\n",
      "第十一話 未来\n",
      "第十二話 宝物\n",
      "話数 サブタイトル\n",
      "#1 廃部!\n",
      "#2 楽器!\n",
      "#3 特訓!\n",
      "#4 合宿!\n",
      "#5 顧問!\n",
      "#6 学園祭!\n",
      "#7 クリスマス!\n",
      "#8 新歓!\n",
      "#9 新入部員!\n",
      "#10 また合宿!\n",
      "#11 ピンチ!\n",
      "最終回(#12) 軽音!\n",
      "番外編(#13) 冬の日!\n",
      "番外編(#14) ライブハウス![注 12]\n",
      "#1 高3!\n",
      "#2 整頓!\n",
      "#3 ドラマー!\n",
      "#4 修学旅行!\n",
      "#5 お留守番!\n",
      "#6 梅雨!\n",
      "#7 お茶会!\n",
      "#8 進路!\n",
      "#9 期末試験!\n",
      "#10 先生!\n",
      "#11 暑い!\n",
      "#12 夏フェス!\n",
      "#13 残暑見舞い!\n",
      "#14 夏期講習!\n",
      "#15 マラソン大会!\n",
      "#16 先輩!\n",
      "#17 部室がない!\n",
      "#18 主役!\n",
      "#19 ロミジュリ!\n",
      "#20 またまた学園祭!\n",
      "#21 卒業アルバム!\n",
      "#22 受験!\n",
      "#23 放課後!\n",
      "最終回(#24) 卒業式!\n",
      "番外編(#25) 企画会議![注 29]\n",
      "番外編(#26) 訪問![注 30]\n",
      "番外編(#27) 計画![注 31]\n"
     ]
    }
   ],
   "source": [
    "import sample\n",
    "import imp\n",
    "imp.reload(sample)\n",
    "garupan_url = \"https://ja.wikipedia.org/wiki/%E3%82%AC%E3%83%BC%E3%83%AB%E3%82%BA%26%E3%83%91%E3%83%B3%E3%83%84%E3%82%A1%E3%83%BC\"\n",
    "bokumachi_url = \"https://ja.wikipedia.org/wiki/%E5%83%95%E3%81%A0%E3%81%91%E3%81%8C%E3%81%84%E3%81%AA%E3%81%84%E8%A1%97\"\n",
    "keion_url = \"https://ja.wikipedia.org/wiki/%E3%81%91%E3%81%84%E3%81%8A%E3%82%93!#.E5.90.84.E8.A9.B1.E3.83.AA.E3.82.B9.E3.83.88\"\n",
    "sample.get_anime_title_from_wikipedia(garupan_url)\n",
    "sample.get_anime_title_from_wikipedia(bokumachi_url)\n",
    "sample.get_anime_title_from_wikipedia(keion_url)"
   ]
  }
 ],
 "metadata": {
  "kernelspec": {
   "display_name": "Python 3",
   "language": "python",
   "name": "python3"
  },
  "language_info": {
   "codemirror_mode": {
    "name": "ipython",
    "version": 3
   },
   "file_extension": ".py",
   "mimetype": "text/x-python",
   "name": "python",
   "nbconvert_exporter": "python",
   "pygments_lexer": "ipython3",
   "version": "3.5.1"
  }
 },
 "nbformat": 4,
 "nbformat_minor": 0
}

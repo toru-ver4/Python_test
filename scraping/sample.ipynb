{
 "cells": [
  {
   "cell_type": "markdown",
   "metadata": {},
   "source": [
    "## css のクラスを使った解析\n",
    "\n",
    "以下のようなHTMLから `<span class=\"green\">` を抽出するには、findAll() を使う。\n",
    "\n",
    "```\n",
    "<span class=\"red\">And the fete at the English ambassador's? Today is Wednesday. I\n",
    "must put in an appearance there,</span>\" said <span class=\"green\">the prince</span>. \"<span class=\"red\">My daughter is\n",
    "coming for me to take me there.</span>\n",
    "```"
   ]
  },
  {
   "cell_type": "code",
   "execution_count": 1,
   "metadata": {
    "collapsed": false,
    "scrolled": true
   },
   "outputs": [
    {
     "name": "stdout",
     "output_type": "stream",
     "text": [
      "Anna\n",
      "Pavlovna Scherer\n",
      "Empress Marya\n",
      "Fedorovna\n",
      "Prince Vasili Kuragin\n",
      "Anna Pavlovna\n",
      "St. Petersburg\n",
      "the prince\n",
      "Anna Pavlovna\n",
      "Anna Pavlovna\n",
      "the prince\n",
      "the prince\n",
      "the prince\n",
      "Prince Vasili\n",
      "Anna Pavlovna\n",
      "Anna Pavlovna\n",
      "the prince\n",
      "Wintzingerode\n",
      "King of Prussia\n",
      "le Vicomte de Mortemart\n",
      "Montmorencys\n",
      "Rohans\n",
      "Abbe Morio\n",
      "the Emperor\n",
      "the prince\n",
      "Prince Vasili\n",
      "Dowager Empress Marya Fedorovna\n",
      "the baron\n",
      "Anna Pavlovna\n",
      "the Empress\n",
      "the Empress\n",
      "Anna Pavlovna's\n",
      "Her Majesty\n",
      "Baron\n",
      "Funke\n",
      "The prince\n",
      "Anna\n",
      "Pavlovna\n",
      "the Empress\n",
      "The prince\n",
      "Anatole\n",
      "the prince\n",
      "The prince\n",
      "Anna\n",
      "Pavlovna\n",
      "Anna Pavlovna\n"
     ]
    }
   ],
   "source": [
    "import sample\n",
    "import imp\n",
    "imp.reload(sample)\n",
    "\n",
    "bsObj = sample.getSiteHTML(\"http://www.pythonscraping.com/pages/warandpeace.html\")\n",
    "nameList = bsObj.findAll(\"span\", {\"class\":\"green\"})\n",
    "for name in nameList:\n",
    "    print(name.get_text())"
   ]
  },
  {
   "cell_type": "markdown",
   "metadata": {},
   "source": [
    "## ガルパンの Wikipedia から各話タイトルを取得してみよう"
   ]
  },
  {
   "cell_type": "code",
   "execution_count": 13,
   "metadata": {
    "collapsed": false,
    "scrolled": true
   },
   "outputs": [
    {
     "name": "stdout",
     "output_type": "stream",
     "text": [
      "話数 サブタイトル\n",
      "第1話 戦車道、始めます！\n",
      "第2話 戦車、乗ります！\n",
      "第3話 試合、やります！\n",
      "第4話 隊長、がんばります！\n",
      "第5話 強豪・シャーマン軍団です！\n",
      "第5.5話 紹介します！\n",
      "第6話 一回戦、白熱してます！\n",
      "第7話 次はアンツィオです！\n",
      "第8話 プラウダ戦です！\n",
      "第9話 絶体絶命です！\n",
      "第10話 クラスメイトです！\n",
      "第10.5話 紹介します 2！\n",
      "第11話 激戦です！\n",
      "第12話 あとには退けない戦いです！\n",
      "OVA これが本当のアンツィオ戦です！\n"
     ]
    }
   ],
   "source": [
    "import pandas\n",
    "url = \"https://ja.wikipedia.org/wiki/%E3%82%AC%E3%83%BC%E3%83%AB%E3%82%BA%26%E3%83%91%E3%83%B3%E3%83%84%E3%82%A1%E3%83%BC\"\n",
    "pandas_obj = pandas.io.html.read_html(url)\n",
    "# print(pandas_obj)\n",
    "index = None\n",
    "for idx, dataframe in enumerate(pandas_obj):\n",
    "    if dataframe[0][0] == \"話数\" and dataframe[1][0] == \"サブタイトル\":\n",
    "        index = idx\n",
    "        break\n",
    "if index:   \n",
    "    title_list = pandas_obj[index][0].values + \" \" + pandas_obj[index][1].values\n",
    "    for title_name in title_list:\n",
    "        print(title_name)"
   ]
  },
  {
   "cell_type": "markdown",
   "metadata": {},
   "source": [
    "## ちょっと別サイトで試してみますか…\n",
    "\n",
    "「僕だけがいない街」みたいに1期しかないアニメはOK。\n",
    "「けいおん！」みたいに2期まであるやつはNG。"
   ]
  },
  {
   "cell_type": "code",
   "execution_count": 15,
   "metadata": {
    "collapsed": false
   },
   "outputs": [
    {
     "ename": "TypeError",
     "evalue": "Can't convert 'float' object to str implicitly",
     "output_type": "error",
     "traceback": [
      "\u001b[1;31m---------------------------------------------------------------------------\u001b[0m",
      "\u001b[1;31mTypeError\u001b[0m                                 Traceback (most recent call last)",
      "\u001b[1;32m<ipython-input-15-f28d6d697aa5>\u001b[0m in \u001b[0;36m<module>\u001b[1;34m()\u001b[0m\n\u001b[0;32m     10\u001b[0m         \u001b[1;32mbreak\u001b[0m\u001b[1;33m\u001b[0m\u001b[0m\n\u001b[0;32m     11\u001b[0m \u001b[1;32mif\u001b[0m \u001b[0mindex\u001b[0m\u001b[1;33m:\u001b[0m\u001b[1;33m\u001b[0m\u001b[0m\n\u001b[1;32m---> 12\u001b[1;33m     \u001b[0mtitle_list\u001b[0m \u001b[1;33m=\u001b[0m \u001b[0mpandas_obj\u001b[0m\u001b[1;33m[\u001b[0m\u001b[0mindex\u001b[0m\u001b[1;33m]\u001b[0m\u001b[1;33m[\u001b[0m\u001b[1;36m0\u001b[0m\u001b[1;33m]\u001b[0m\u001b[1;33m.\u001b[0m\u001b[0mvalues\u001b[0m \u001b[1;33m+\u001b[0m \u001b[1;34m\" \"\u001b[0m \u001b[1;33m+\u001b[0m \u001b[0mpandas_obj\u001b[0m\u001b[1;33m[\u001b[0m\u001b[0mindex\u001b[0m\u001b[1;33m]\u001b[0m\u001b[1;33m[\u001b[0m\u001b[1;36m1\u001b[0m\u001b[1;33m]\u001b[0m\u001b[1;33m.\u001b[0m\u001b[0mvalues\u001b[0m\u001b[1;33m\u001b[0m\u001b[0m\n\u001b[0m\u001b[0;32m     13\u001b[0m     \u001b[1;32mfor\u001b[0m \u001b[0mtitle_name\u001b[0m \u001b[1;32min\u001b[0m \u001b[0mtitle_list\u001b[0m\u001b[1;33m:\u001b[0m\u001b[1;33m\u001b[0m\u001b[0m\n\u001b[0;32m     14\u001b[0m         \u001b[0mprint\u001b[0m\u001b[1;33m(\u001b[0m\u001b[0mtitle_name\u001b[0m\u001b[1;33m)\u001b[0m\u001b[1;33m\u001b[0m\u001b[0m\n",
      "\u001b[1;31mTypeError\u001b[0m: Can't convert 'float' object to str implicitly"
     ]
    }
   ],
   "source": [
    "import pandas\n",
    "# url = \"https://ja.wikipedia.org/wiki/%E5%83%95%E3%81%A0%E3%81%91%E3%81%8C%E3%81%84%E3%81%AA%E3%81%84%E8%A1%97\"\n",
    "url = \"https://ja.wikipedia.org/wiki/%E3%81%91%E3%81%84%E3%81%8A%E3%82%93!#.E5.90.84.E8.A9.B1.E3.83.AA.E3.82.B9.E3.83.88\"\n",
    "pandas_obj = pandas.io.html.read_html(url)\n",
    "# print(pandas_obj)\n",
    "index = None\n",
    "for idx, dataframe in enumerate(pandas_obj):\n",
    "    if dataframe[0][0] == \"話数\" and dataframe[1][0] == \"サブタイトル\":\n",
    "        index = idx\n",
    "        break\n",
    "if index:   \n",
    "    title_list = pandas_obj[index][0].values + \" \" + pandas_obj[index][1].values\n",
    "    for title_name in title_list:\n",
    "        print(title_name)"
   ]
  },
  {
   "cell_type": "markdown",
   "metadata": {},
   "source": [
    "## 関数化して、もう少しまじめに書こう"
   ]
  },
  {
   "cell_type": "code",
   "execution_count": 3,
   "metadata": {
    "collapsed": false,
    "scrolled": true
   },
   "outputs": [
    {
     "name": "stdout",
     "output_type": "stream",
     "text": [
      "## ガールズ&パンツァー\n",
      "\t第1話 戦車道、始めます！\n",
      "\t第2話 戦車、乗ります！\n",
      "\t第3話 試合、やります！\n",
      "\t第4話 隊長、がんばります！\n",
      "\t第5話 強豪・シャーマン軍団です！\n",
      "\t第5.5話 紹介します！\n",
      "\t第6話 一回戦、白熱してます！\n",
      "\t第7話 次はアンツィオです！\n",
      "\t第8話 プラウダ戦です！\n",
      "\t第9話 絶体絶命です！\n",
      "\t第10話 クラスメイトです！\n",
      "\t第10.5話 紹介します 2！\n",
      "\t第11話 激戦です！\n",
      "\t第12話 あとには退けない戦いです！\n",
      "\tOVA これが本当のアンツィオ戦です！\n",
      "\n",
      "\n",
      "## 僕だけがいない街\n",
      "\t第一話 走馬灯\n",
      "\t第二話 掌\n",
      "\t第三話 痣\n",
      "\t第四話 達成\n",
      "\t第五話 逃走\n",
      "\t第六話 死神\n",
      "\t第七話 暴走\n",
      "\t第八話 螺旋\n",
      "\t第九話 終幕\n",
      "\t第十話 歓喜\n",
      "\t第十一話 未来\n",
      "\t第十二話 宝物\n",
      "\n",
      "\n",
      "## けいおん!\n",
      "\t#1 廃部!\n",
      "\t#2 楽器!\n",
      "\t#3 特訓!\n",
      "\t#4 合宿!\n",
      "\t#5 顧問!\n",
      "\t#6 学園祭!\n",
      "\t#7 クリスマス!\n",
      "\t#8 新歓!\n",
      "\t#9 新入部員!\n",
      "\t#10 また合宿!\n",
      "\t#11 ピンチ!\n",
      "\t最終回(#12) 軽音!\n",
      "\t番外編(#13) 冬の日!\n",
      "\t番外編(#14) ライブハウス![注 12]\n",
      "\t#1 高3!\n",
      "\t#2 整頓!\n",
      "\t#3 ドラマー!\n",
      "\t#4 修学旅行!\n",
      "\t#5 お留守番!\n",
      "\t#6 梅雨!\n",
      "\t#7 お茶会!\n",
      "\t#8 進路!\n",
      "\t#9 期末試験!\n",
      "\t#10 先生!\n",
      "\t#11 暑い!\n",
      "\t#12 夏フェス!\n",
      "\t#13 残暑見舞い!\n",
      "\t#14 夏期講習!\n",
      "\t#15 マラソン大会!\n",
      "\t#16 先輩!\n",
      "\t#17 部室がない!\n",
      "\t#18 主役!\n",
      "\t#19 ロミジュリ!\n",
      "\t#20 またまた学園祭!\n",
      "\t#21 卒業アルバム!\n",
      "\t#22 受験!\n",
      "\t#23 放課後!\n",
      "\t最終回(#24) 卒業式!\n",
      "\t番外編(#25) 企画会議![注 29]\n",
      "\t番外編(#26) 訪問![注 30]\n",
      "\t番外編(#27) 計画![注 31]\n",
      "\n",
      "\n",
      "## 東京喰種トーキョーグール\n",
      "\t第1話 悲劇\n",
      "\t第2話 孵化\n",
      "\t第3話 白鳩\n",
      "\t第4話 晩餐\n",
      "\t第5話 残痕\n",
      "\t第6話 驟雨\n",
      "\t第7話 幽囚\n",
      "\t第8話 円環\n",
      "\t第9話 鳥籠\n",
      "\t第10話 青桐\n",
      "\t第11話 衝天\n",
      "\t第12話 喰種\n",
      "\n",
      "\n",
      "\t第1話 新洸\n",
      "\t第2話 舞花\n",
      "\t第3話 吊人\n",
      "\t第4話 深層\n",
      "\t第5話 裂目\n",
      "\t第6話 千路\n",
      "\t第7話 透過\n",
      "\t第8話 旧九\n",
      "\t第9話 街望\n",
      "\t第10話 終雨\n",
      "\t第11話 溢花\n",
      "\t第12話 研研\n",
      "\n",
      "\n"
     ]
    }
   ],
   "source": [
    "import sample\n",
    "import imp\n",
    "imp.reload(sample)\n",
    "garupan_url = \"https://ja.wikipedia.org/wiki/%E3%82%AC%E3%83%BC%E3%83%AB%E3%82%BA%26%E3%83%91%E3%83%B3%E3%83%84%E3%82%A1%E3%83%BC\"\n",
    "bokumachi_url = \"https://ja.wikipedia.org/wiki/%E5%83%95%E3%81%A0%E3%81%91%E3%81%8C%E3%81%84%E3%81%AA%E3%81%84%E8%A1%97\"\n",
    "keion_url = \"https://ja.wikipedia.org/wiki/%E3%81%91%E3%81%84%E3%81%8A%E3%82%93!#.E5.90.84.E8.A9.B1.E3.83.AA.E3.82.B9.E3.83.88\"\n",
    "guru_url = \"https://ja.wikipedia.org/wiki/%E6%9D%B1%E4%BA%AC%E5%96%B0%E7%A8%AE%E3%83%88%E3%83%BC%E3%82%AD%E3%83%A7%E3%83%BC%E3%82%B0%E3%83%BC%E3%83%AB#.E3.83.86.E3.83.AC.E3.83.93.E3.82.A2.E3.83.8B.E3.83.A1\"\n",
    "sample.get_each_story_list_from_url(garupan_url)\n",
    "sample.get_each_story_list_from_url(bokumachi_url)\n",
    "sample.get_each_story_list_from_url(keion_url)\n",
    "sample.get_each_story_list_from_url(guru_url)"
   ]
  },
  {
   "cell_type": "markdown",
   "metadata": {},
   "source": [
    "## 2016/4/12 版\n",
    "\n",
    "* 東京喰種トーキョーグール のように、1期と2期で Tableが別れているパターンに対応\n",
    " * データフレームリストの中でマッチしたインデックスを**リスト**で保存するよう変更\n",
    "* 出力結果の見栄えを少し改善"
   ]
  },
  {
   "cell_type": "code",
   "execution_count": 19,
   "metadata": {
    "collapsed": false
   },
   "outputs": [
    {
     "name": "stdout",
     "output_type": "stream",
     "text": [
      "## ガールズ&パンツァー\n",
      "\t第1話 戦車道、始めます！\n",
      "\t第2話 戦車、乗ります！\n",
      "\t第3話 試合、やります！\n",
      "\t第4話 隊長、がんばります！\n",
      "\t第5話 強豪・シャーマン軍団です！\n",
      "\t第5.5話 紹介します！\n",
      "\t第6話 一回戦、白熱してます！\n",
      "\t第7話 次はアンツィオです！\n",
      "\t第8話 プラウダ戦です！\n",
      "\t第9話 絶体絶命です！\n",
      "\t第10話 クラスメイトです！\n",
      "\t第10.5話 紹介します 2！\n",
      "\t第11話 激戦です！\n",
      "\t第12話 あとには退けない戦いです！\n",
      "\tOVA これが本当のアンツィオ戦です！\n",
      "## 東京喰種トーキョーグール\n",
      "\t第1話 悲劇\n",
      "\t第2話 孵化\n",
      "\t第3話 白鳩\n",
      "\t第4話 晩餐\n",
      "\t第5話 残痕\n",
      "\t第6話 驟雨\n",
      "\t第7話 幽囚\n",
      "\t第8話 円環\n",
      "\t第9話 鳥籠\n",
      "\t第10話 青桐\n",
      "\t第11話 衝天\n",
      "\t第12話 喰種\n",
      "\t第1話 新洸\n",
      "\t第2話 舞花\n",
      "\t第3話 吊人\n",
      "\t第4話 深層\n",
      "\t第5話 裂目\n",
      "\t第6話 千路\n",
      "\t第7話 透過\n",
      "\t第8話 旧九\n",
      "\t第9話 街望\n",
      "\t第10話 終雨\n",
      "\t第11話 溢花\n",
      "\t第12話 研研\n"
     ]
    }
   ],
   "source": [
    "from urllib.request import urlopen\n",
    "from urllib.error import HTTPError\n",
    "from bs4 import BeautifulSoup\n",
    "import pandas\n",
    "\n",
    "\n",
    "def get_site_html(url):\n",
    "    \"\"\"urlopen() で取得したHTMLを返す\"\"\"\n",
    "    try:\n",
    "        html = urlopen(url)\n",
    "    except HTTPError as e:\n",
    "        print(e)\n",
    "        return None\n",
    "    except URLError as e:\n",
    "        print(\"The server could not be found!\")\n",
    "        return None\n",
    "    else:\n",
    "        return html\n",
    "\n",
    "    \n",
    "def get_each_story_list_from_url(url):\n",
    "    html = get_site_html(url)\n",
    "    if html:\n",
    "        html_contents = html.read()\n",
    "        bs_obj = BeautifulSoup(html_contents, 'lxml')\n",
    "        site_title = bs_obj.body.h1.get_text()\n",
    "        pandas_obj = pandas.io.html.read_html(html_contents)\n",
    "        \n",
    "        # アニメタイトルっぽいリストのインデックスを抽出\n",
    "        title_idx_list = []\n",
    "        for idx, dataframe in enumerate(pandas_obj):\n",
    "            if dataframe[0][0] == \"話数\" and dataframe[1][0] == \"サブタイトル\":\n",
    "                title_idx_list.append(idx)\n",
    "\n",
    "        # 対象のインデックスからタイトルを抽出して表示\n",
    "        print(\"## {}\".format(site_title))\n",
    "        for title_idx in title_idx_list:\n",
    "            not_nan_idx = (pandas_obj[title_idx][1].isnull() != True)\n",
    "            title_list = pandas_obj[title_idx][0][not_nan_idx].values + \\\n",
    "                         \" \" + pandas_obj[title_idx][1][not_nan_idx].values\n",
    "            # タイトル出力。[0]は \"話数\"、 \"サブタイトル\" なので除外\n",
    "            for title_name in title_list[1:]:\n",
    "                print(\"\\t{}\".format(title_name))\n",
    "\n",
    "# 以下、本処理\n",
    "garupan_url = \"https://ja.wikipedia.org/wiki/%E3%82%AC%E3%83%BC%E3%83%AB%E3%82%BA%26%E3%83%91%E3%83%B3%E3%83%84%E3%82%A1%E3%83%BC\"\n",
    "guru_url = \"https://ja.wikipedia.org/wiki/%E6%9D%B1%E4%BA%AC%E5%96%B0%E7%A8%AE%E3%83%88%E3%83%BC%E3%82%AD%E3%83%A7%E3%83%BC%E3%82%B0%E3%83%BC%E3%83%AB#.E3.83.86.E3.83.AC.E3.83.93.E3.82.A2.E3.83.8B.E3.83.A1\"\n",
    "get_each_story_list_from_url(garupan_url)\n",
    "get_each_story_list_from_url(guru_url)"
   ]
  },
  {
   "cell_type": "markdown",
   "metadata": {},
   "source": [
    "## 2015年の全アニメのタイトルを吐き出してみよう\n",
    "\n",
    "### Wikipdeiaへのアクセス回数軽減対策\n",
    "さすがに毎回アクセスするのはWikipediaが可哀想なので、ローカルにキャッシュを用意する。\n",
    "./html_cache フォルダを掘って、そこに「アニメタイトル.html」って名前で保存する。該当するアニメタイトルがあればWikipediaへのアクセスは実施しない。"
   ]
  },
  {
   "cell_type": "code",
   "execution_count": 1,
   "metadata": {
    "collapsed": false,
    "scrolled": false
   },
   "outputs": [],
   "source": [
    "import sample\n",
    "import imp\n",
    "imp.reload(sample)\n",
    "\n",
    "url_2015 = \"https://ja.wikipedia.org/wiki/Category:2015%E5%B9%B4%E3%81%AE%E3%83%86%E3%83%AC%E3%83%93%E3%82%A2%E3%83%8B%E3%83%A1\"\n",
    "sample.get_each_story_list_from_url_list(url_2015)"
   ]
  }
 ],
 "metadata": {
  "kernelspec": {
   "display_name": "Python 3",
   "language": "python",
   "name": "python3"
  },
  "language_info": {
   "codemirror_mode": {
    "name": "ipython",
    "version": 3
   },
   "file_extension": ".py",
   "mimetype": "text/x-python",
   "name": "python",
   "nbconvert_exporter": "python",
   "pygments_lexer": "ipython3",
   "version": "3.5.1"
  }
 },
 "nbformat": 4,
 "nbformat_minor": 0
}
